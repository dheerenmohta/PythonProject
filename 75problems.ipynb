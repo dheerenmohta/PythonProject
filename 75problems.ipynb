{
 "cells": [
  {
   "cell_type": "code",
   "execution_count": 1,
   "metadata": {},
   "outputs": [
    {
     "name": "stdout",
     "output_type": "stream",
     "text": [
      "True\n",
      "True\n"
     ]
    }
   ],
   "source": [
    "from typing import List\n",
    "\n",
    "\n",
    "class Solution:\n",
    "\n",
    "    def validPalindrome(self, s: str):\n",
    "        l,r = 0, len(s)-1\n",
    "        while l < r:\n",
    "            if s[l] != s[r]:\n",
    "                return False\n",
    "            l+=1\n",
    "            r-=1\n",
    "        \n",
    "        return True\n",
    "\n",
    "if __name__=='__main__':\n",
    "        solution = Solution()\n",
    "        print(solution.validPalindrome(\"raceaecar\"))\n",
    "        print(Solution.validPalindrome(Solution, \"aba\"))\n",
    "        "
   ]
  },
  {
   "cell_type": "code",
   "execution_count": 10,
   "metadata": {},
   "outputs": [
    {
     "name": "stdout",
     "output_type": "stream",
     "text": [
      "[[-1, 0, 1]]\n"
     ]
    }
   ],
   "source": [
    "class Solution:\n",
    "    def threeSum(self, nums: List[int]):\n",
    "        res = []\n",
    "        nums.sort()\n",
    "        for i,a in enumerate(nums):\n",
    "            if i > 0 and nums[i-1] == a:\n",
    "                continue;\n",
    "            l,r = i+1, len(nums)-1         \n",
    "            while l < r:\n",
    "                threesum = a+nums[l]+nums[r]\n",
    "                if threesum > 0:\n",
    "                    r-=1\n",
    "                elif threesum < 0:\n",
    "                    l+=1\n",
    "                else:\n",
    "                    res.append([ a,nums[l],nums[r]])\n",
    "                    l+=1\n",
    "                    while l < r and nums[l]== nums[l-1]:\n",
    "                        l+=1\n",
    "\n",
    "        return res\n",
    "        \n",
    "if __name__ == \"__main__\":\n",
    "    print(Solution.threeSum(Solution, [1,0,-1]))"
   ]
  },
  {
   "cell_type": "code",
   "execution_count": 12,
   "metadata": {},
   "outputs": [
    {
     "name": "stdout",
     "output_type": "stream",
     "text": [
      "28\n"
     ]
    }
   ],
   "source": [
    "from tkinter import N\n",
    "\n",
    "\n",
    "class Solution:\n",
    "    def maxWater(nums: list[int]):\n",
    "        l,r = 0, len(nums)-1\n",
    "        res = 0\n",
    "        while l < r:\n",
    "            res = max(res, (r-l)*max(nums[l], nums[r]))\n",
    "            if nums[l] < nums[r]:\n",
    "                l+=1\n",
    "            elif nums[r] <= nums[l]:\n",
    "                r-=1\n",
    "        return res\n",
    "\n",
    "if __name__ == \"__main__\":\n",
    "    print(Solution.maxWater([1,7,2,1,7]))"
   ]
  },
  {
   "cell_type": "code",
   "execution_count": 20,
   "metadata": {},
   "outputs": [
    {
     "name": "stdout",
     "output_type": "stream",
     "text": [
      "2\n"
     ]
    }
   ],
   "source": [
    "class Solution:\n",
    "    def stockBuySell(prices: list[int]) -> int:\n",
    "        profit, minPrice = 0, float('inf')\n",
    "        for price in prices:\n",
    "            minPrice = min(price, minPrice);\n",
    "            profit = max(profit, (price- minPrice))\n",
    "        return profit\n",
    "        \n",
    "if __name__ == \"__main__\":\n",
    "    print(Solution.stockBuySell([1,2,3]))"
   ]
  },
  {
   "cell_type": "code",
   "execution_count": 31,
   "metadata": {},
   "outputs": [],
   "source": [
    "class Solution:\n",
    "    def lengthOfLongestSubstring(self, s: str) -> int:\n",
    "        charSet = set()\n",
    "        l = 0\n",
    "        res = float('-inf')\n",
    "        for r in range(len(s)):\n",
    "            while s[r] in charSet:\n",
    "                charSet.remove(s[l])\n",
    "                l+=1\n",
    "            charSet.add(s[r])\n",
    "            res = max(res, r-l+1) \n",
    "\n",
    "        return res\n",
    "\n",
    "        \"\"\"\n",
    "        charSet = set()\n",
    "        l=0\n",
    "        res=0\n",
    "        for r in range(len(s)):\n",
    "            while s[r] in charSet:\n",
    "                charSet.remove(s[l])\n",
    "                l+=1\n",
    "            charSet.add(s[r])\n",
    "            res = max(res, r-l+1)\n",
    "        return res\n",
    "        \"\"\"\n",
    "if __name__ == \"__main__\":\n",
    "    print(Solution.lengthOfLongestSubstring(Solution,\"abcaa\"))"
   ]
  },
  {
   "cell_type": "code",
   "execution_count": null,
   "metadata": {},
   "outputs": [],
   "source": []
  }
 ],
 "metadata": {
  "kernelspec": {
   "display_name": "Python 3.10.0 64-bit",
   "language": "python",
   "name": "python3"
  },
  "language_info": {
   "codemirror_mode": {
    "name": "ipython",
    "version": 3
   },
   "file_extension": ".py",
   "mimetype": "text/x-python",
   "name": "python",
   "nbconvert_exporter": "python",
   "pygments_lexer": "ipython3",
   "version": "3.10.0"
  },
  "orig_nbformat": 4,
  "vscode": {
   "interpreter": {
    "hash": "369f2c481f4da34e4445cda3fffd2e751bd1c4d706f27375911949ba6bb62e1c"
   }
  }
 },
 "nbformat": 4,
 "nbformat_minor": 2
}
